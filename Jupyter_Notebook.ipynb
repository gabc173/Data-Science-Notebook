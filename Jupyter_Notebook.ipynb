{
 "cells": [
  {
   "cell_type": "markdown",
   "metadata": {},
   "source": [
    "<center>\n",
    "    <img src=\"https://cf-courses-data.s3.us.cloud-object-storage.appdomain.cloud/IBMDeveloperSkillsNetwork-DS0105EN-SkillsNetwork/labs/Module2/images/SN_web_lightmode.png\" width=\"300\" alt=\"cognitiveclass.ai logo\">\n",
    "</center>\n"
   ]
  },
  {
   "cell_type": "markdown",
   "metadata": {},
   "source": [
    "#### Add your code below following the instructions given in the course\n"
   ]
  },
  {
   "cell_type": "markdown",
   "metadata": {},
   "source": [
    "# Data Science Notebook"
   ]
  },
  {
   "cell_type": "markdown",
   "metadata": {},
   "source": [
    "## Introduction\n",
    "Welcome to my data science notebook!"
   ]
  },
  {
   "cell_type": "markdown",
   "metadata": {},
   "source": [
    "## Data Science Languages\n"
   ]
  },
  {
   "cell_type": "markdown",
   "metadata": {},
   "source": [
    "## Data Science Libraries"
   ]
  },
  {
   "cell_type": "markdown",
   "metadata": {},
   "source": [
    "|Tool | Category | Description |\n",
    "|-----|----------|-------------|\n",
    "|RStudio | IDE | Integrated development environment for R |\n",
    "|Jupyter Notebook | IDE | Interactive computing environment |\n",
    "|Apache Spark | Big Data | Unified analytics engine for large-scale data processing |"
   ]
  },
  {
   "cell_type": "markdown",
   "metadata": {},
   "source": [
    "## Arithmetic Expression Examples\n",
    "Here are some of the fundamental arithmetic expressions:\n",
    "- Addition: '5 + 3 = 8'\n",
    "- Subtraction: '10 - 4 = 6'\n",
    "- Multiplication: '7 * 6 = 42'\n",
    "- Division: '15 / 3 = 5'\n",
    "- Modulus: '17 %% 5 = 2'"
   ]
  },
  {
   "cell_type": "code",
   "execution_count": 6,
   "metadata": {},
   "outputs": [
    {
     "name": "stdout",
     "output_type": "stream",
     "text": [
      "15 * 7 + 3 = 108 \n",
      "(15 + 7) * 3 = 66 \n"
     ]
    }
   ],
   "source": [
    "a <- 15\n",
    "b <- 7\n",
    "c <- 3\n",
    "\n",
    "result1 <- a * b + c\n",
    "result2 <- (a + b) * c\n",
    "\n",
    "cat(\"15 * 7 + 3 =\", result1, \"\\n\")\n",
    "cat(\"(15 + 7) * 3 =\", result2, \"\\n\")"
   ]
  },
  {
   "cell_type": "code",
   "execution_count": 7,
   "metadata": {},
   "outputs": [
    {
     "name": "stdout",
     "output_type": "stream",
     "text": [
      "120 minutes = 2 hours\n"
     ]
    }
   ],
   "source": [
    "convert_minutes_to_hours <- function(minutes) {\n",
    "    hours <- minutes / 60\n",
    "    return(hours) \n",
    "    }\n",
    "\n",
    "minutes1 <- 120\n",
    "hours1 <- convert_minutes_to_hours(minutes1)\n",
    "cat(minutes1, \"minutes =\", hours1, \"hours\\n\")"
   ]
  },
  {
   "cell_type": "markdown",
   "metadata": {},
   "source": [
    "## Objectives\n",
    "- Demonstrate proficiency in creating markdown cells\n",
    "- Write code for basic operations\n",
    "- Show understanding of data science "
   ]
  },
  {
   "cell_type": "markdown",
   "metadata": {},
   "source": [
    "## Author \n",
    "**Gabbey C**"
   ]
  },
  {
   "cell_type": "code",
   "execution_count": null,
   "metadata": {},
   "outputs": [],
   "source": []
  }
 ],
 "metadata": {
  "kernelspec": {
   "display_name": "R",
   "language": "R",
   "name": "ir"
  },
  "language_info": {
   "codemirror_mode": "r",
   "file_extension": ".r",
   "mimetype": "text/x-r-source",
   "name": "R",
   "pygments_lexer": "r",
   "version": "4.4.2"
  }
 },
 "nbformat": 4,
 "nbformat_minor": 4
}
